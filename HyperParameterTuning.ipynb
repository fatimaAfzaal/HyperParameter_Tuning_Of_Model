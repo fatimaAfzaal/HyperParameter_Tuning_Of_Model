{
  "nbformat": 4,
  "nbformat_minor": 0,
  "metadata": {
    "colab": {
      "provenance": []
    },
    "kernelspec": {
      "name": "python3",
      "display_name": "Python 3"
    },
    "language_info": {
      "name": "python"
    }
  },
  "cells": [
    {
      "cell_type": "markdown",
      "source": [
        "# **Hyper Parameter tuning of models**"
      ],
      "metadata": {
        "id": "wuSfsj6pVUrd"
      }
    },
    {
      "cell_type": "markdown",
      "source": [
        "# Step 1: Load and Prepare Data"
      ],
      "metadata": {
        "id": "ByV6dw5uV3PZ"
      }
    },
    {
      "cell_type": "code",
      "execution_count": 1,
      "metadata": {
        "id": "H3vszxHRUDUT"
      },
      "outputs": [],
      "source": [
        "import numpy as np\n",
        "import pandas as pd\n",
        "import matplotlib.pyplot as plt\n",
        "import seaborn as sns\n",
        "from sklearn.model_selection import train_test_split\n",
        "from sklearn.ensemble import RandomForestClassifier\n",
        "from sklearn.metrics import accuracy_score, classification_report\n",
        "\n",
        "\n",
        "df = pd.read_csv(\"emails.csv\")\n",
        "\n",
        "df.fillna(0, inplace=True)\n",
        "X = df.iloc[:,1:3001]\n",
        "Y = df.iloc[:,-1].values\n",
        "train_x, test_x, train_y, test_y = train_test_split(X, Y, test_size=0.25)\n"
      ]
    },
    {
      "cell_type": "markdown",
      "source": [
        "# Step 2: Hyperparameter Tuning using Grid Search"
      ],
      "metadata": {
        "id": "RzQmNcBBWC13"
      }
    },
    {
      "cell_type": "code",
      "source": [
        "from sklearn.model_selection import GridSearchCV\n",
        "\n",
        "param_grid = {'n_estimators': [50, 100, 150], 'max_depth': [3, 6, None], 'min_samples_split': [2, 5, 10], 'min_samples_leaf': [1, 5, 10]}\n",
        "\n",
        "rfc = RandomForestClassifier()\n",
        "\n",
        "grid_rfc = GridSearchCV(rfc, param_grid, cv=5)\n",
        "grid_rfc.fit(train_x, train_y)\n",
        "\n",
        "\n",
        "best_params_grid = grid_rfc.best_params_\n",
        "\n",
        "\n",
        "results_grid = pd.DataFrame(grid_rfc.cv_results_)\n",
        "plt.figure(figsize=(10, 6))\n",
        "sns.heatmap(results_grid.pivot_table(index='param_n_estimators', columns='param_max_depth', values='mean_test_score'), annot=True, cmap='YlGnBu')\n",
        "plt.title('Grid Search Results')\n",
        "plt.xlabel('Max Depth')\n",
        "plt.ylabel('Number of Estimators')\n",
        "plt.show()\n"
      ],
      "metadata": {
        "colab": {
          "base_uri": "https://localhost:8080/",
          "height": 564
        },
        "id": "PD0VWjTuWEiL",
        "outputId": "76dbfc1c-877b-4867-c759-e2deb80aa3ef"
      },
      "execution_count": 2,
      "outputs": [
        {
          "output_type": "display_data",
          "data": {
            "text/plain": [
              "<Figure size 1000x600 with 2 Axes>"
            ],
            "image/png": "[encoded data removed]"
          },
          "metadata": {}
        }
      ]
    },
    {
      "cell_type": "markdown",
      "source": [
        "# Step 3: Hyperparameter Tuning using Random Search"
      ],
      "metadata": {
        "id": "3w-k5claWHTQ"
      }
    },
    {
      "cell_type": "code",
      "source": [
        "from sklearn.model_selection import RandomizedSearchCV\n",
        "\n",
        "\n",
        "param_dist = {\"n_estimators\": [50, 100, 150],\n",
        "              \"max_depth\": [3, 6, None],\n",
        "              \"max_features\": [5, 10, 20],\n",
        "              \"min_samples_split\": [2, 5, 10],\n",
        "              \"min_samples_leaf\": [1, 5, 10],\n",
        "              \"bootstrap\": [True, False]}\n",
        "\n",
        "\n",
        "random_rfc = RandomizedSearchCV(rfc, param_distributions=param_dist, n_iter=100, cv=5, random_state=42)\n",
        "random_rfc.fit(train_x, train_y)\n",
        "\n",
        "best_params_random = random_rfc.best_params_\n"
      ],
      "metadata": {
        "id": "_yzAVAK4WKBD"
      },
      "execution_count": 3,
      "outputs": []
    },
    {
      "cell_type": "markdown",
      "source": [
        "# Step 4: Model Evaluation"
      ],
      "metadata": {
        "id": "xFP-kNMLWL_n"
      }
    },
    {
      "cell_type": "code",
      "source": [
        "best_rfc_grid = grid_rfc.best_estimator_\n",
        "y_pred_grid = best_rfc_grid.predict(test_x)\n",
        "print(\"Best Parameters using Grid Search:\", best_params_grid)\n",
        "print(\"Accuracy Score of Random Forest Classifier (Grid Search):\", accuracy_score(y_pred_grid, test_y))\n",
        "print(\"Classification Report:\")\n",
        "print(classification_report(test_y, y_pred_grid))\n",
        "\n",
        "best_rfc_random = random_rfc.best_estimator_\n",
        "y_pred_random = best_rfc_random.predict(test_x)\n",
        "print(\"\\n\\n\\nBest Parameters using Random Search:\", best_params_random)\n",
        "print(\"Accuracy Score of Random Forest Classifier (Random Search):\", accuracy_score(y_pred_random, test_y))\n",
        "print(\"Classification Report:\")\n",
        "print(classification_report(test_y, y_pred_random))\n"
      ],
      "metadata": {
        "colab": {
          "base_uri": "https://localhost:8080/",
          "height": 0
        },
        "id": "t_Pq9N8uWRTZ",
        "outputId": "730cb8d1-116d-4ac4-fd4e-ed87c1a6987a"
      },
      "execution_count": 4,
      "outputs": [
        {
          "output_type": "stream",
          "name": "stdout",
          "text": [
            "Best Parameters using Grid Search: {'max_depth': None, 'min_samples_leaf': 1, 'min_samples_split': 2, 'n_estimators': 150}\n",
            "Accuracy Score of Random Forest Classifier (Grid Search): 0.974477958236659\n",
            "Classification Report:\n",
            "              precision    recall  f1-score   support\n",
            "\n",
            "           0       0.98      0.98      0.98       935\n",
            "           1       0.96      0.95      0.95       358\n",
            "\n",
            "    accuracy                           0.97      1293\n",
            "   macro avg       0.97      0.97      0.97      1293\n",
            "weighted avg       0.97      0.97      0.97      1293\n",
            "\n",
            "\n",
            "\n",
            "\n",
            "Best Parameters using Random Search: {'n_estimators': 150, 'min_samples_split': 10, 'min_samples_leaf': 1, 'max_features': 10, 'max_depth': None, 'bootstrap': False}\n",
            "Accuracy Score of Random Forest Classifier (Random Search): 0.9721577726218097\n",
            "Classification Report:\n",
            "              precision    recall  f1-score   support\n",
            "\n",
            "           0       0.97      0.99      0.98       935\n",
            "           1       0.98      0.92      0.95       358\n",
            "\n",
            "    accuracy                           0.97      1293\n",
            "   macro avg       0.97      0.96      0.96      1293\n",
            "weighted avg       0.97      0.97      0.97      1293\n",
            "\n"
          ]
        }
      ]
    }
  ]
}